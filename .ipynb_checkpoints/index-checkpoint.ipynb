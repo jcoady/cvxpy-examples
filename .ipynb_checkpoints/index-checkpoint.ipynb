{
 "cells": [
  {
   "cell_type": "markdown",
   "metadata": {},
   "source": [
    "### Examples: Convex Optimization\n",
    "##### See [cvxpy.org](http://cvxpy.org) for more on convex optimization with python\n",
    "\n",
    ">These examples show many different ways to use CVXPY. The Basic Examples section shows how to solve some common optimization problems in CVXPY. The Advanced Examples and Advanced Applications sections contains more complex examples aimed at experts in convex optimization.\n",
    "\n",
    "##### Basic Examples.\n",
    "\n",
    "[Control](examples/control.ipynb): Control\n",
    "\n",
    "[SVM Classifier with Rgularization](examples/SVM.ipynb): SVM\n",
    "\n"
   ]
  }
 ],
 "metadata": {
  "kernelspec": {
   "display_name": "Python 2",
   "language": "python",
   "name": "python2"
  },
  "language_info": {
   "codemirror_mode": {
    "name": "ipython",
    "version": 2
   },
   "file_extension": ".py",
   "mimetype": "text/x-python",
   "name": "python",
   "nbconvert_exporter": "python",
   "pygments_lexer": "ipython2",
   "version": "2.7.12"
  }
 },
 "nbformat": 4,
 "nbformat_minor": 0
}
